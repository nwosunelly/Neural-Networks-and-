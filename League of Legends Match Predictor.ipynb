{
 "cells": [
  {
   "cell_type": "markdown",
   "metadata": {},
   "source": [
    "<img src=\"https://cf-courses-data.s3.us.cloud-object-storage.appdomain.cloud/assets/logos/SN_web_lightmode.png\" height=300 width=300 />\n"
   ]
  },
  {
   "cell_type": "markdown",
   "metadata": {},
   "source": [
    "# Final Project: League of Legends Match Predictor \n"
   ]
  },
  {
   "cell_type": "markdown",
   "metadata": {},
   "source": [
    "### Introduction  \n",
    "\n",
    "League of Legends, a popular multiplayer online battle arena (MOBA) game, generates extensive data from matches, providing an excellent opportunity to apply machine learning techniques to real-world scenarios. Perform the following steps to build a logistic regression model aimed at predicting the outcomes of League of Legends matches.  \n",
    "\n",
    "Use the [league_of_legends_data_large.csv](https://cf-courses-data.s3.us.cloud-object-storage.appdomain.cloud/rk7VDaPjMp1h5VXS-cUyMg/league-of-legends-data-large.csv) file to perform the tasks.  \n",
    "\n",
    "### Step 1: Data Loading and Preprocessing  \n",
    "\n",
    "#### Task 1: Load the League of Legends dataset and preprocess it for training.  \n",
    "\n",
    "Loading and preprocessing the dataset involves reading the data, splitting it into training and testing sets, and standardizing the features. You will utilize `pandas` for data manipulation, `train_test_split` from `sklearn` for data splitting, and `StandardScaler` for feature scaling.  \n",
    "\n",
    "Note: Please ensure all the required libraries are installed and imported.\n",
    "\n",
    "1 .Load the dataset:\n",
    "Use `pd.read_csv()` to load the dataset into a pandas DataFrame.</br>\n",
    "2. Split data into features and target: Separate win (target) and the remaining columns (features).</br>\n",
    "   X = data.drop('win', axis=1)</br>\n",
    "   y = data['win'] </br>\n",
    "3 .Split the Data into Training and Testing Sets:\n",
    "Use `train_test_split()` from `sklearn.model_selection` to divide the data. Set `test_size`=0.2 to allocate 20% for testing and 80% for training, and use `random_state`=42 to ensure reproducibility of the split.</br>\n",
    "4. Standardize the features:\n",
    "Use `StandardScaler()` from sklearn.preprocessing to scale the features.</br>\n",
    "5. Convert to PyTorch tensors:\n",
    "Use `torch.tensor()` to convert the data to PyTorch tensors.\n",
    "\n",
    "#### Exercise 1:  \n",
    "\n",
    "Write a code to load the dataset, split it into training and testing sets, standardize the features, and convert the data into PyTorch tensors for use in training a PyTorch model.  \n"
   ]
  },
  {
   "cell_type": "markdown",
   "metadata": {},
   "source": [
    "### Setup\n",
    "Installing required libraries:\n",
    "\n",
    "The following required libraries are not pre-installed in the Skills Network Labs environment. You will need to run the following cell to install them:\n"
   ]
  },
  {
   "cell_type": "code",
   "execution_count": 2,
   "metadata": {},
   "outputs": [
    {
     "name": "stdout",
     "output_type": "stream",
     "text": [
      "Requirement already satisfied: pandas in /opt/conda/lib/python3.12/site-packages (2.2.3)\n",
      "Requirement already satisfied: numpy>=1.26.0 in /opt/conda/lib/python3.12/site-packages (from pandas) (2.2.4)\n",
      "Requirement already satisfied: python-dateutil>=2.8.2 in /opt/conda/lib/python3.12/site-packages (from pandas) (2.9.0.post0)\n",
      "Requirement already satisfied: pytz>=2020.1 in /opt/conda/lib/python3.12/site-packages (from pandas) (2024.2)\n",
      "Requirement already satisfied: tzdata>=2022.7 in /opt/conda/lib/python3.12/site-packages (from pandas) (2025.2)\n",
      "Requirement already satisfied: six>=1.5 in /opt/conda/lib/python3.12/site-packages (from python-dateutil>=2.8.2->pandas) (1.17.0)\n",
      "Requirement already satisfied: numpy in /opt/conda/lib/python3.12/site-packages (2.2.4)\n",
      "Requirement already satisfied: scikit-learn in /opt/conda/lib/python3.12/site-packages (1.6.1)\n",
      "Requirement already satisfied: numpy>=1.19.5 in /opt/conda/lib/python3.12/site-packages (from scikit-learn) (2.2.4)\n",
      "Requirement already satisfied: scipy>=1.6.0 in /opt/conda/lib/python3.12/site-packages (from scikit-learn) (1.15.2)\n",
      "Requirement already satisfied: joblib>=1.2.0 in /opt/conda/lib/python3.12/site-packages (from scikit-learn) (1.4.2)\n",
      "Requirement already satisfied: threadpoolctl>=3.1.0 in /opt/conda/lib/python3.12/site-packages (from scikit-learn) (3.6.0)\n",
      "Requirement already satisfied: torch in /opt/conda/lib/python3.12/site-packages (2.6.0)\n",
      "Requirement already satisfied: filelock in /opt/conda/lib/python3.12/site-packages (from torch) (3.18.0)\n",
      "Requirement already satisfied: typing-extensions>=4.10.0 in /opt/conda/lib/python3.12/site-packages (from torch) (4.12.2)\n",
      "Requirement already satisfied: networkx in /opt/conda/lib/python3.12/site-packages (from torch) (3.4.2)\n",
      "Requirement already satisfied: jinja2 in /opt/conda/lib/python3.12/site-packages (from torch) (3.1.5)\n",
      "Requirement already satisfied: fsspec in /opt/conda/lib/python3.12/site-packages (from torch) (2025.3.2)\n",
      "Requirement already satisfied: nvidia-cuda-nvrtc-cu12==12.4.127 in /opt/conda/lib/python3.12/site-packages (from torch) (12.4.127)\n",
      "Requirement already satisfied: nvidia-cuda-runtime-cu12==12.4.127 in /opt/conda/lib/python3.12/site-packages (from torch) (12.4.127)\n",
      "Requirement already satisfied: nvidia-cuda-cupti-cu12==12.4.127 in /opt/conda/lib/python3.12/site-packages (from torch) (12.4.127)\n",
      "Requirement already satisfied: nvidia-cudnn-cu12==9.1.0.70 in /opt/conda/lib/python3.12/site-packages (from torch) (9.1.0.70)\n",
      "Requirement already satisfied: nvidia-cublas-cu12==12.4.5.8 in /opt/conda/lib/python3.12/site-packages (from torch) (12.4.5.8)\n",
      "Requirement already satisfied: nvidia-cufft-cu12==11.2.1.3 in /opt/conda/lib/python3.12/site-packages (from torch) (11.2.1.3)\n",
      "Requirement already satisfied: nvidia-curand-cu12==10.3.5.147 in /opt/conda/lib/python3.12/site-packages (from torch) (10.3.5.147)\n",
      "Requirement already satisfied: nvidia-cusolver-cu12==11.6.1.9 in /opt/conda/lib/python3.12/site-packages (from torch) (11.6.1.9)\n",
      "Requirement already satisfied: nvidia-cusparse-cu12==12.3.1.170 in /opt/conda/lib/python3.12/site-packages (from torch) (12.3.1.170)\n",
      "Requirement already satisfied: nvidia-cusparselt-cu12==0.6.2 in /opt/conda/lib/python3.12/site-packages (from torch) (0.6.2)\n",
      "Requirement already satisfied: nvidia-nccl-cu12==2.21.5 in /opt/conda/lib/python3.12/site-packages (from torch) (2.21.5)\n",
      "Requirement already satisfied: nvidia-nvtx-cu12==12.4.127 in /opt/conda/lib/python3.12/site-packages (from torch) (12.4.127)\n",
      "Requirement already satisfied: nvidia-nvjitlink-cu12==12.4.127 in /opt/conda/lib/python3.12/site-packages (from torch) (12.4.127)\n",
      "Requirement already satisfied: triton==3.2.0 in /opt/conda/lib/python3.12/site-packages (from torch) (3.2.0)\n",
      "Requirement already satisfied: setuptools in /opt/conda/lib/python3.12/site-packages (from torch) (75.8.0)\n",
      "Requirement already satisfied: sympy==1.13.1 in /opt/conda/lib/python3.12/site-packages (from torch) (1.13.1)\n",
      "Requirement already satisfied: mpmath<1.4,>=1.1.0 in /opt/conda/lib/python3.12/site-packages (from sympy==1.13.1->torch) (1.3.0)\n",
      "Requirement already satisfied: MarkupSafe>=2.0 in /opt/conda/lib/python3.12/site-packages (from jinja2->torch) (3.0.2)\n",
      "Requirement already satisfied: matplotlib in /opt/conda/lib/python3.12/site-packages (3.10.1)\n",
      "Requirement already satisfied: contourpy>=1.0.1 in /opt/conda/lib/python3.12/site-packages (from matplotlib) (1.3.1)\n",
      "Requirement already satisfied: cycler>=0.10 in /opt/conda/lib/python3.12/site-packages (from matplotlib) (0.12.1)\n",
      "Requirement already satisfied: fonttools>=4.22.0 in /opt/conda/lib/python3.12/site-packages (from matplotlib) (4.57.0)\n",
      "Requirement already satisfied: kiwisolver>=1.3.1 in /opt/conda/lib/python3.12/site-packages (from matplotlib) (1.4.8)\n",
      "Requirement already satisfied: numpy>=1.23 in /opt/conda/lib/python3.12/site-packages (from matplotlib) (2.2.4)\n",
      "Requirement already satisfied: packaging>=20.0 in /opt/conda/lib/python3.12/site-packages (from matplotlib) (24.2)\n",
      "Requirement already satisfied: pillow>=8 in /opt/conda/lib/python3.12/site-packages (from matplotlib) (11.1.0)\n",
      "Requirement already satisfied: pyparsing>=2.3.1 in /opt/conda/lib/python3.12/site-packages (from matplotlib) (3.2.3)\n",
      "Requirement already satisfied: python-dateutil>=2.7 in /opt/conda/lib/python3.12/site-packages (from matplotlib) (2.9.0.post0)\n",
      "Requirement already satisfied: six>=1.5 in /opt/conda/lib/python3.12/site-packages (from python-dateutil>=2.7->matplotlib) (1.17.0)\n"
     ]
    }
   ],
   "source": [
    "!pip install pandas\n",
    "!pip install numpy\n",
    "!pip install scikit-learn\n",
    "!pip install torch\n",
    "!pip install matplotlib\n"
   ]
  },
  {
   "cell_type": "code",
   "execution_count": 3,
   "metadata": {},
   "outputs": [
    {
     "name": "stdout",
     "output_type": "stream",
     "text": [
      "   win  kills  deaths  assists  gold_earned   cs  wards_placed  wards_killed  \\\n",
      "0    0     16       6       19        17088  231            11             7   \n",
      "1    1      8       8        5        14865  259            10             2   \n",
      "2    0      0      17       11        15919  169            14             5   \n",
      "3    0     19      11        1        11534  264            14             3   \n",
      "4    0     12       7        6        18926  124            15             7   \n",
      "\n",
      "   damage_dealt  \n",
      "0         15367  \n",
      "1         38332  \n",
      "2         24642  \n",
      "3         15789  \n",
      "4         40268  \n"
     ]
    }
   ],
   "source": [
    "## Write your code here\n",
    "import pandas as pd\n",
    "\n",
    "# Load the dataset into a pandas DataFrame\n",
    "data = pd.read_csv('league_of_legends_data_large.csv')\n",
    "\n",
    "# Display the first few rows of the DataFrame\n",
    "print(data.head())\n"
   ]
  },
  {
   "cell_type": "code",
   "execution_count": 4,
   "metadata": {},
   "outputs": [],
   "source": [
    "X = data.drop('win', axis=1)\n",
    "y = data['win']"
   ]
  },
  {
   "cell_type": "code",
   "execution_count": 5,
   "metadata": {},
   "outputs": [
    {
     "data": {
      "text/html": [
       "<div>\n",
       "<style scoped>\n",
       "    .dataframe tbody tr th:only-of-type {\n",
       "        vertical-align: middle;\n",
       "    }\n",
       "\n",
       "    .dataframe tbody tr th {\n",
       "        vertical-align: top;\n",
       "    }\n",
       "\n",
       "    .dataframe thead th {\n",
       "        text-align: right;\n",
       "    }\n",
       "</style>\n",
       "<table border=\"1\" class=\"dataframe\">\n",
       "  <thead>\n",
       "    <tr style=\"text-align: right;\">\n",
       "      <th></th>\n",
       "      <th>kills</th>\n",
       "      <th>deaths</th>\n",
       "      <th>assists</th>\n",
       "      <th>gold_earned</th>\n",
       "      <th>cs</th>\n",
       "      <th>wards_placed</th>\n",
       "      <th>wards_killed</th>\n",
       "      <th>damage_dealt</th>\n",
       "    </tr>\n",
       "  </thead>\n",
       "  <tbody>\n",
       "    <tr>\n",
       "      <th>0</th>\n",
       "      <td>16</td>\n",
       "      <td>6</td>\n",
       "      <td>19</td>\n",
       "      <td>17088</td>\n",
       "      <td>231</td>\n",
       "      <td>11</td>\n",
       "      <td>7</td>\n",
       "      <td>15367</td>\n",
       "    </tr>\n",
       "    <tr>\n",
       "      <th>1</th>\n",
       "      <td>8</td>\n",
       "      <td>8</td>\n",
       "      <td>5</td>\n",
       "      <td>14865</td>\n",
       "      <td>259</td>\n",
       "      <td>10</td>\n",
       "      <td>2</td>\n",
       "      <td>38332</td>\n",
       "    </tr>\n",
       "    <tr>\n",
       "      <th>2</th>\n",
       "      <td>0</td>\n",
       "      <td>17</td>\n",
       "      <td>11</td>\n",
       "      <td>15919</td>\n",
       "      <td>169</td>\n",
       "      <td>14</td>\n",
       "      <td>5</td>\n",
       "      <td>24642</td>\n",
       "    </tr>\n",
       "    <tr>\n",
       "      <th>3</th>\n",
       "      <td>19</td>\n",
       "      <td>11</td>\n",
       "      <td>1</td>\n",
       "      <td>11534</td>\n",
       "      <td>264</td>\n",
       "      <td>14</td>\n",
       "      <td>3</td>\n",
       "      <td>15789</td>\n",
       "    </tr>\n",
       "    <tr>\n",
       "      <th>4</th>\n",
       "      <td>12</td>\n",
       "      <td>7</td>\n",
       "      <td>6</td>\n",
       "      <td>18926</td>\n",
       "      <td>124</td>\n",
       "      <td>15</td>\n",
       "      <td>7</td>\n",
       "      <td>40268</td>\n",
       "    </tr>\n",
       "  </tbody>\n",
       "</table>\n",
       "</div>"
      ],
      "text/plain": [
       "   kills  deaths  assists  gold_earned   cs  wards_placed  wards_killed  \\\n",
       "0     16       6       19        17088  231            11             7   \n",
       "1      8       8        5        14865  259            10             2   \n",
       "2      0      17       11        15919  169            14             5   \n",
       "3     19      11        1        11534  264            14             3   \n",
       "4     12       7        6        18926  124            15             7   \n",
       "\n",
       "   damage_dealt  \n",
       "0         15367  \n",
       "1         38332  \n",
       "2         24642  \n",
       "3         15789  \n",
       "4         40268  "
      ]
     },
     "metadata": {},
     "output_type": "display_data"
    },
    {
     "data": {
      "text/plain": [
       "0    0\n",
       "1    1\n",
       "2    0\n",
       "3    0\n",
       "4    0\n",
       "Name: win, dtype: int64"
      ]
     },
     "metadata": {},
     "output_type": "display_data"
    }
   ],
   "source": [
    "# print the first few rows of the data\n",
    "display(X.head())\n",
    "\n",
    "# print the first few rows of the target\n",
    "display(y.head())"
   ]
  },
  {
   "cell_type": "code",
   "execution_count": 6,
   "metadata": {},
   "outputs": [
    {
     "data": {
      "text/plain": [
       "'X shape: (1000, 8)'"
      ]
     },
     "metadata": {},
     "output_type": "display_data"
    },
    {
     "data": {
      "text/plain": [
       "'y shape: (1000,)'"
      ]
     },
     "metadata": {},
     "output_type": "display_data"
    }
   ],
   "source": [
    "display(f'X shape: {X.shape}')\n",
    "display(f'y shape: {y.shape}')"
   ]
  },
  {
   "cell_type": "code",
   "execution_count": 7,
   "metadata": {},
   "outputs": [],
   "source": [
    "from sklearn.model_selection import train_test_split\n",
    "from sklearn.preprocessing import StandardScaler\n",
    "import torch"
   ]
  },
  {
   "cell_type": "code",
   "execution_count": 8,
   "metadata": {},
   "outputs": [
    {
     "data": {
      "text/plain": [
       "'X_train shape: (800, 8)'"
      ]
     },
     "metadata": {},
     "output_type": "display_data"
    },
    {
     "data": {
      "text/plain": [
       "'y_train shape: (800,)'"
      ]
     },
     "metadata": {},
     "output_type": "display_data"
    },
    {
     "data": {
      "text/plain": [
       "'X_test shape: (200, 8)'"
      ]
     },
     "metadata": {},
     "output_type": "display_data"
    },
    {
     "data": {
      "text/plain": [
       "'y_test shape: (200,)'"
      ]
     },
     "metadata": {},
     "output_type": "display_data"
    }
   ],
   "source": [
    "# Split the data into training and test sets\n",
    "X_train, X_test, y_train, y_test = train_test_split(X, y, test_size=0.2, random_state=42, stratify=y)\n",
    "\n",
    "display(f'X_train shape: {X_train.shape}')\n",
    "display(f'y_train shape: {y_train.shape}')\n",
    "display(f'X_test shape: {X_test.shape}')\n",
    "display(f'y_test shape: {y_test.shape}')"
   ]
  },
  {
   "cell_type": "code",
   "execution_count": 14,
   "metadata": {},
   "outputs": [],
   "source": [
    "from torch.utils.data import DataLoader, TensorDataset\n",
    "\n",
    "# Standardize the data\n",
    "# Initialize the StandardScaler\n",
    "scaler = StandardScaler()\n",
    "# Fit the scaler on the training data and transform it\n",
    "X_train = scaler.fit_transform(X_train)\n",
    "# Transform the test data using the same scaler\n",
    "X_test = scaler.transform(X_test)\n",
    "\n",
    "# Convert to PyTorch tensors\n",
    "X_train_tensor = torch.tensor(X_train, dtype=torch.float32)\n",
    "X_test_tensor = torch.tensor(X_test, dtype=torch.float32)\n",
    "y_train_tensor = torch.tensor(y_train.values, dtype=torch.float32)\n",
    "y_test_tensor = torch.tensor(y_test.values, dtype=torch.float32)\n",
    "\n",
    "# Create DataLoader for training and test sets\n",
    "train_dataset = TensorDataset(X_train_tensor, y_train_tensor)\n",
    "test_dataset = TensorDataset(X_test_tensor, y_test_tensor)\n",
    "\n",
    "train_loader = DataLoader(train_dataset, batch_size=2, shuffle=True)\n",
    "test_loader = DataLoader(test_dataset, batch_size=2, shuffle=False)"
   ]
  },
  {
   "cell_type": "code",
   "execution_count": 15,
   "metadata": {},
   "outputs": [
    {
     "name": "stdout",
     "output_type": "stream",
     "text": [
      "Training features shape: torch.Size([800, 8])\n",
      "Testing features shape: torch.Size([200, 8])\n",
      "Training labels shape: torch.Size([800])\n",
      "Testing labels shape: torch.Size([200])\n"
     ]
    }
   ],
   "source": [
    "# Display shapes of tensors for verification\n",
    "print(\"Training features shape:\", X_train_tensor.shape)\n",
    "print(\"Testing features shape:\", X_test_tensor.shape)\n",
    "print(\"Training labels shape:\", y_train_tensor.shape)\n",
    "print(\"Testing labels shape:\", y_test_tensor.shape)"
   ]
  },
  {
   "cell_type": "markdown",
   "metadata": {},
   "source": [
    "### Step 2: Logistic Regression Model  \n",
    "\n",
    "#### Task 2: Implement a logistic regression model using PyTorch.  \n",
    "\n",
    "Defining the logistic regression model involves specifying the input dimensions, the forward pass using the sigmoid activation function, and initializing the model, loss function, and optimizer.  \n",
    "\n",
    "1 .Define the Logistic Regression Model:</br>\n",
    "  Create a class LogisticRegressionModel that inherits from torch.nn.Module.</br>\n",
    " - In the `__init__()` method, define a linear layer (nn.Linear) to implement the logistic regression model.</br>\n",
    "- The `forward()` method should apply the sigmoid activation function to the output of the linear layer.</br>\n",
    "\n",
    "2.Initialize the Model, Loss Function, and Optimizer:</br>\n",
    "- Set input_dim: Use `X_train.shape[1]` to get the number of features from the training data (X_train).</br>\n",
    "- Initialize the model: Create an instance of the LogisticRegressionModel class  (e.g., `model = LogisticRegressionModel()`)while passing input_dim as a parameter</br>\n",
    "- Loss Function: Use `BCELoss()` from torch.nn (Binary Cross-Entropy Loss).</br>\n",
    "- Optimizer: Initialize the optimizer using `optim.SGD()` with a learning rate of 0.01</br>\n",
    "\n",
    "#### Exercise 2:  \n",
    "\n",
    "Define the logistic regression model using PyTorch, specifying the input dimensions and the forward pass. Initialize the model, loss function, and optimizer.  \n"
   ]
  },
  {
   "cell_type": "code",
   "execution_count": 16,
   "metadata": {},
   "outputs": [
    {
     "name": "stdout",
     "output_type": "stream",
     "text": [
      "LogisticRegressionModel(\n",
      "  (linear): Linear(in_features=8, out_features=1, bias=True)\n",
      ")\n"
     ]
    }
   ],
   "source": [
    "import torch.nn as nn\n",
    "import torch.optim as optim\n",
    "\n",
    "# Step 1: Define the Logistic Regression Model\n",
    "class LogisticRegressionModel(nn.Module):\n",
    "    def __init__(self, input_dim):\n",
    "        super(LogisticRegressionModel, self).__init__()\n",
    "        # Define a linear layer\n",
    "        self.linear = nn.Linear(input_dim, 1)\n",
    "\n",
    "    def forward(self, x):\n",
    "        # Apply the sigmoid activation function to the linear layer output\n",
    "        return torch.sigmoid(self.linear(x))\n",
    "\n",
    "# Step 2: Initialize the Model\n",
    "# Get the input dimension (number of features)\n",
    "input_dim = X_train_tensor.shape[1]\n",
    "model = LogisticRegressionModel(input_dim)\n",
    "\n",
    "# Step 3: Define the Loss Function\n",
    "# Use Binary Cross-Entropy Loss (BCELoss)\n",
    "criterion = nn.BCELoss()\n",
    "\n",
    "# Step 4: Define the Optimizer\n",
    "# Use Stochastic Gradient Descent (SGD) with a learning rate of 0.01\n",
    "optimizer = optim.SGD(model.parameters(), lr=0.01)\n",
    "\n",
    "# Print model structure for confirmation\n",
    "print(model)"
   ]
  },
  {
   "cell_type": "markdown",
   "metadata": {},
   "source": [
    "### Step 3: Model Training  \n",
    "\n",
    "#### Task 3: Train the logistic regression model on the dataset.  \n",
    "\n",
    "The training loop will run for a specified number of epochs. In each epoch, the model makes predictions, calculates the loss, performs backpropagation, and updates the model parameters.\n",
    "\n",
    "1. Set Number of Epochs:  \n",
    "   - Define the number of epochs for training to 1000.\n",
    "\n",
    "2. Training Loop:  \n",
    "   For each epoch:\n",
    "   - Set the model to training mode using `model.train()`.\n",
    "   - Zero the gradients using `optimizer.zero_grad()`.\n",
    "   - Pass the training data (`X_train`) through the model to get the predictions (`outputs`).\n",
    "   - Calculate the loss using the defined loss function (`criterion`).\n",
    "   - Perform backpropagation with `loss.backward()`.\n",
    "   - Update the model's weights using `optimizer.step()`.\n",
    "\n",
    "3. Print Loss Every 100 Epochs:  \n",
    "   - After every 100 epochs, print the current epoch number and the loss value.\n",
    "\n",
    "4. Model Evaluation:  \n",
    "   - Set the model to evaluation mode using `model.eval()`.\n",
    "   - Use `torch.no_grad()` to ensure no gradients are calculated during evaluation.\n",
    "   - Get predictions on both the training set (`X_train`) and the test set (`X_test`).\n",
    "\n",
    "5. Calculate Accuracy:  \n",
    "   - For both the training and test datasets, compute the accuracy by comparing the predicted values with the true values (`y_train`, `y_test`).\n",
    "   - Use a threshold of 0.5 for classification\n",
    "   \n",
    "6. Print Accuracy:  \n",
    "   - Print the training and test accuracies after the evaluation is complete.\n",
    "\n",
    "#### Exercise 3:  \n",
    "\n",
    "Write the code to train the logistic regression model on the dataset. Implement the training loop, making predictions, calculating the loss, performing backpropagation, and updating model parameters. Evaluate the model's accuracy on training and testing sets.  \n"
   ]
  },
  {
   "cell_type": "code",
   "execution_count": 17,
   "metadata": {},
   "outputs": [
    {
     "name": "stdout",
     "output_type": "stream",
     "text": [
      "Epoch [100/1000], Loss: 0.7335\n",
      "Epoch [200/1000], Loss: 0.7167\n",
      "Epoch [300/1000], Loss: 0.7063\n",
      "Epoch [400/1000], Loss: 0.6999\n",
      "Epoch [500/1000], Loss: 0.6961\n",
      "Epoch [600/1000], Loss: 0.6937\n",
      "Epoch [700/1000], Loss: 0.6924\n",
      "Epoch [800/1000], Loss: 0.6915\n",
      "Epoch [900/1000], Loss: 0.6910\n",
      "Epoch [1000/1000], Loss: 0.6907\n",
      "Training Accuracy: 52.75%\n",
      "Testing Accuracy: 52.50%\n"
     ]
    }
   ],
   "source": [
    "# Write your code here\n",
    "# Set the number of epochs\n",
    "epochs = 1000\n",
    "\n",
    "# Training Loop\n",
    "for epoch in range(epochs):\n",
    "    # Set the model to training mode\n",
    "    model.train()\n",
    "    \n",
    "    # Zero the gradients\n",
    "    optimizer.zero_grad()\n",
    "    \n",
    "    # Forward pass: Get predictions\n",
    "    outputs = model(X_train_tensor).squeeze()  # Squeeze to remove extra dimensions\n",
    "    \n",
    "    # Compute the loss\n",
    "    loss = criterion(outputs, y_train_tensor)\n",
    "    \n",
    "    # Backward pass: Calculate gradients\n",
    "    loss.backward()\n",
    "    \n",
    "    # Update model parameters\n",
    "    optimizer.step()\n",
    "    \n",
    "    # Print loss every 100 epochs\n",
    "    if (epoch + 1) % 100 == 0:\n",
    "        print(f\"Epoch [{epoch + 1}/{epochs}], Loss: {loss.item():.4f}\")\n",
    "\n",
    "# Model Evaluation\n",
    "model.eval()  # Set the model to evaluation mode\n",
    "\n",
    "# Disable gradient calculations for evaluation\n",
    "with torch.no_grad():\n",
    "    # Get predictions for training data\n",
    "    train_predictions = model(X_train_tensor).squeeze()\n",
    "    train_predictions = (train_predictions >= 0.5).float()  # Apply threshold of 0.5\n",
    "    \n",
    "    # Get predictions for testing data\n",
    "    test_predictions = model(X_test_tensor).squeeze()\n",
    "    test_predictions = (test_predictions >= 0.5).float()  # Apply threshold of 0.5\n",
    "\n",
    "# Calculate training and testing accuracy\n",
    "train_accuracy = (train_predictions == y_train_tensor).float().mean().item() * 100\n",
    "test_accuracy = (test_predictions == y_test_tensor).float().mean().item() * 100\n",
    "\n",
    "# Print accuracies\n",
    "print(f\"Training Accuracy: {train_accuracy:.2f}%\")\n",
    "print(f\"Testing Accuracy: {test_accuracy:.2f}%\")\n"
   ]
  },
  {
   "cell_type": "markdown",
   "metadata": {},
   "source": [
    "### Step 4: Model Optimization and Evaluation  \n",
    "\n",
    "#### Task 4: Implement optimization techniques and evaluate the model's performance.  \n",
    "\n",
    "Optimization techniques such as L2 regularization (Ridge Regression) help in preventing overfitting. The model is retrained with these optimizations, and its performance is evaluated on both training and testing sets. \n",
    "\n",
    "**Weight Decay** :In the context of machine learning and specifically in optimization algorithms, weight_decay is a parameter used to apply L2 regularization to the model's parameters (weights). It helps prevent the model from overfitting by penalizing large weight values, thereby encouraging the model to find simpler solutions.To use L2 regularization, you need to modify the optimizer by setting the weight_decay parameter. The weight_decay parameter in the optimizer adds the L2 regularization term during training.\n",
    "For example, when you initialize the optimizer with optim.SGD(model.parameters(), lr=0.01, weight_decay=0.01), the weight_decay=0.01 term applies L2 regularization with a strength of 0.01.\n",
    "\n",
    "1. Set Up the Optimizer with L2 Regularization:\n",
    "   - Modify the optimizer to include `weight_decay` for L2 regularization.\n",
    "   - Example:\n",
    "     ```python\n",
    "     optimizer = optim.SGD(model.parameters(), lr=0.01, weight_decay=0.01)\n",
    "     ```\n",
    "2. Train the Model with L2 Regularization:\n",
    "    - Follow the same steps as before but use the updated optimizer with regularization during training.\n",
    "    - Use epochs=1000\n",
    "   \n",
    "3. Evaluate the Optimized Model:\n",
    "   - After training, evaluate the model on both the training and test datasets.\n",
    "   - Compute the accuracy for both sets by comparing the model's predictions to the true labels (`y_train` and `y_test`).\n",
    "\n",
    "4. Calculate and Print the Accuracy:\n",
    "   - Use a threshold of 0.5 to determine whether the model's predictions are class 0 or class 1.\n",
    "   - Print the training accuracy and test accuracy  after evaluation.\n",
    "\n",
    "\n",
    "#### Exercise 4:  \n",
    "\n",
    "Implement optimization techniques like L2 regularization and retrain the model. Evaluate the performance of the optimized model on both training and testing sets.  \n"
   ]
  },
  {
   "cell_type": "code",
   "execution_count": 18,
   "metadata": {},
   "outputs": [
    {
     "name": "stdout",
     "output_type": "stream",
     "text": [
      "Epoch [100/1000], Loss: 0.6906\n",
      "Epoch [200/1000], Loss: 0.6905\n",
      "Epoch [300/1000], Loss: 0.6904\n",
      "Epoch [400/1000], Loss: 0.6904\n",
      "Epoch [500/1000], Loss: 0.6903\n",
      "Epoch [600/1000], Loss: 0.6903\n",
      "Epoch [700/1000], Loss: 0.6903\n",
      "Epoch [800/1000], Loss: 0.6903\n",
      "Epoch [900/1000], Loss: 0.6903\n",
      "Epoch [1000/1000], Loss: 0.6903\n",
      "Training Accuracy: 52.13%\n",
      "Testing Accuracy: 54.00%\n"
     ]
    }
   ],
   "source": [
    "## Write your code here\n",
    "# Set up the optimizer with L2 regularization (weight_decay)\n",
    "optimizer = optim.SGD(model.parameters(), lr=0.01, weight_decay=0.01)  # weight_decay=0.01 applies L2 regularization\n",
    "\n",
    "# Set the number of epochs\n",
    "epochs = 1000\n",
    "\n",
    "# Retraining the model with L2 regularization\n",
    "for epoch in range(epochs):\n",
    "    model.train()  # Set model to training mode\n",
    "    optimizer.zero_grad()  # Clear previous gradients\n",
    "\n",
    "    # Forward pass: Compute predictions\n",
    "    outputs = model(X_train_tensor).squeeze()  # Squeeze to remove extra dimensions\n",
    "\n",
    "    # Compute the loss\n",
    "    loss = criterion(outputs, y_train_tensor)\n",
    "\n",
    "    # Backward pass: Calculate gradients\n",
    "    loss.backward()\n",
    "\n",
    "    # Update model parameters\n",
    "    optimizer.step()\n",
    "\n",
    "    # Print loss every 100 epochs\n",
    "    if (epoch + 1) % 100 == 0:\n",
    "        print(f\"Epoch [{epoch + 1}/{epochs}], Loss: {loss.item():.4f}\")\n",
    "\n",
    "# Model Evaluation\n",
    "model.eval()  # Set the model to evaluation mode\n",
    "\n",
    "# Disable gradient calculations for evaluation\n",
    "with torch.no_grad():\n",
    "    # Get predictions for training data\n",
    "    train_predictions = model(X_train_tensor).squeeze()\n",
    "    train_predictions = (train_predictions >= 0.5).float()  # Apply threshold of 0.5 for classification\n",
    "\n",
    "    # Get predictions for testing data\n",
    "    test_predictions = model(X_test_tensor).squeeze()\n",
    "    test_predictions = (test_predictions >= 0.5).float()  # Apply threshold of 0.5 for classification\n",
    "\n",
    "# Calculate training and testing accuracy\n",
    "train_accuracy = (train_predictions == y_train_tensor).float().mean().item() * 100\n",
    "test_accuracy = (test_predictions == y_test_tensor).float().mean().item() * 100\n",
    "\n",
    "# Print the accuracies\n",
    "print(f\"Training Accuracy: {train_accuracy:.2f}%\")\n",
    "print(f\"Testing Accuracy: {test_accuracy:.2f}%\")\n"
   ]
  },
  {
   "cell_type": "markdown",
   "metadata": {},
   "source": [
    "### Step 5: Visualization and Interpretation  \n",
    "\n",
    "Visualization tools like confusion matrices and ROC curves provide insights into the model's performance. The confusion matrix helps in understanding the classification accuracy, while the ROC curve illustrates the trade-off between sensitivity and specificity.\n",
    "\n",
    "Confusion Matrix : A Confusion Matrix is a fundamental tool used in classification problems to evaluate the performance of a model. It provides a matrix showing the number of correct and incorrect predictions made by the model, categorized by the actual and predicted classes.\n",
    "Where \n",
    "-  True Positive (TP): Correctly predicted positive class (class 1).\n",
    "- True Negative (TN): Correctly predicted negative class (class 0).\n",
    "- False Positive (FP): Incorrectly predicted as positive (class 1), but the actual class is negative (class 0). This is also called a Type I error.\n",
    "- False Negative (FN): Incorrectly predicted as negative (class 0), but the actual class is positive (class 1). This is also called a Type II error. \n",
    "\n",
    "ROC Curve (Receiver Operating Characteristic Curve):\n",
    "The ROC Curve is a graphical representation used to evaluate the performance of a binary classification model across all classification thresholds. It plots two metrics:\n",
    "- True Positive Rate (TPR) or Recall (Sensitivity)-It is the proportion of actual positive instances (class 1) that were correctly classified as positive by the model.\n",
    "- False Positive Rate (FPR)-It is the proportion of actual negative instances (class 0) that were incorrectly classified as positive by the model.\n",
    "  \n",
    "AUC: \n",
    "AUC stands for Area Under the Curve and is a performance metric used to evaluate the quality of a binary classification model. Specifically, it refers to the area under the ROC curve (Receiver Operating Characteristic curve), which plots the True Positive Rate (TPR) versus the False Positive Rate (FPR) for different threshold values.\n",
    "\n",
    "Classification Report:\n",
    "A Classification Report is a summary of various classification metrics, which are useful for evaluating the performance of a classifier on the given dataset.\n",
    "\n",
    "#### Exercise 5:  \n",
    "\n",
    "Write code to visualize the model's performance using confusion matrices and ROC curves. Generate classification reports to evaluate precision, recall, and F1-score. Retrain the model with L2 regularization and evaluate the performance.\n"
   ]
  },
  {
   "cell_type": "code",
   "execution_count": 19,
   "metadata": {},
   "outputs": [
    {
     "name": "stdout",
     "output_type": "stream",
     "text": [
      "Confusion Matrix:\n",
      "[[44 54]\n",
      " [38 64]]\n"
     ]
    },
    {
     "data": {
      "image/png": "[encoded data removed]",
      "text/plain": [
       "<Figure size 600x600 with 2 Axes>"
      ]
     },
     "metadata": {},
     "output_type": "display_data"
    },
    {
     "data": {
      "image/png": "[encoded data removed]",
      "text/plain": [
       "<Figure size 800x600 with 1 Axes>"
      ]
     },
     "metadata": {},
     "output_type": "display_data"
    },
    {
     "name": "stdout",
     "output_type": "stream",
     "text": [
      "Classification Report:\n",
      "              precision    recall  f1-score   support\n",
      "\n",
      "     Class 0       0.54      0.45      0.49        98\n",
      "     Class 1       0.54      0.63      0.58       102\n",
      "\n",
      "    accuracy                           0.54       200\n",
      "   macro avg       0.54      0.54      0.54       200\n",
      "weighted avg       0.54      0.54      0.54       200\n",
      "\n",
      "Final Training Accuracy: 52.13%\n",
      "Final Testing Accuracy: 54.00%\n"
     ]
    }
   ],
   "source": [
    "## Write your code here\n",
    "import matplotlib.pyplot as plt\n",
    "from sklearn.metrics import confusion_matrix, roc_curve, auc, classification_report\n",
    "import itertools\n",
    "\n",
    "# Evaluate the model and visualize performance metrics\n",
    "model.eval()  # Set the model to evaluation mode\n",
    "with torch.no_grad():\n",
    "    # Get predictions for testing data\n",
    "    y_test_probs = model(X_test_tensor).squeeze()  # Probabilities\n",
    "    y_test_predictions = (y_test_probs >= 0.5).float()  # Threshold at 0.5 for classification\n",
    "\n",
    "# Confusion Matrix\n",
    "conf_matrix = confusion_matrix(y_test_tensor.numpy(), y_test_predictions.numpy())\n",
    "\n",
    "print(\"Confusion Matrix:\")\n",
    "print(conf_matrix)\n",
    "\n",
    "# Plotting the Confusion Matrix\n",
    "plt.figure(figsize=(6, 6))\n",
    "plt.imshow(conf_matrix, cmap='Blues')\n",
    "plt.title(\"Confusion Matrix\")\n",
    "plt.xlabel(\"Predicted Labels\")\n",
    "plt.ylabel(\"True Labels\")\n",
    "plt.colorbar()\n",
    "plt.xticks([0, 1], labels=[\"Class 0\", \"Class 1\"])\n",
    "plt.yticks([0, 1], labels=[\"Class 0\", \"Class 1\"])\n",
    "for i in range(conf_matrix.shape[0]):\n",
    "    for j in range(conf_matrix.shape[1]):\n",
    "        plt.text(j, i, str(conf_matrix[i, j]), ha='center', va='center', color='red')\n",
    "plt.show()\n",
    "\n",
    "# ROC Curve and AUC\n",
    "fpr, tpr, _ = roc_curve(y_test_tensor.numpy(), y_test_probs.numpy())\n",
    "roc_auc = auc(fpr, tpr)\n",
    "\n",
    "plt.figure(figsize=(8, 6))\n",
    "plt.plot(fpr, tpr, color='blue', label=f\"ROC Curve (AUC = {roc_auc:.2f})\")\n",
    "plt.plot([0, 1], [0, 1], color='gray', linestyle='--')\n",
    "plt.xlabel(\"False Positive Rate\")\n",
    "plt.ylabel(\"True Positive Rate\")\n",
    "plt.title(\"ROC Curve\")\n",
    "plt.legend(loc=\"lower right\")\n",
    "plt.show()\n",
    "\n",
    "# Classification Report\n",
    "print(\"Classification Report:\")\n",
    "print(classification_report(y_test_tensor.numpy(), y_test_predictions.numpy(), target_names=[\"Class 0\", \"Class 1\"]))\n",
    "\n",
    "# Training Accuracy Recalculation (Optional)\n",
    "train_accuracy = (train_predictions == y_train_tensor).float().mean().item() * 100\n",
    "test_accuracy = (y_test_predictions == y_test_tensor).float().mean().item() * 100\n",
    "\n",
    "print(f\"Final Training Accuracy: {train_accuracy:.2f}%\")\n",
    "print(f\"Final Testing Accuracy: {test_accuracy:.2f}%\")\n"
   ]
  },
  {
   "cell_type": "markdown",
   "metadata": {},
   "source": [
    "Double-click <b>here</b> for the Hint.\n",
    "<!-- \n",
    "\n",
    "#Change the name of variables as per your code\n",
    "import matplotlib.pyplot as plt\n",
    "from sklearn.metrics import confusion_matrix, classification_report, roc_curve, auc\n",
    "import itertools\n",
    "\n",
    "# Visualize the confusion matrix\n",
    "#Change the variable names as used in your code\n",
    "y_pred_test_labels = (y_pred_test > 0.5).float()\n",
    "cm = confusion_matrix(y_test, y_pred_test_labels)\n",
    "\n",
    "plt.figure(figsize=(6, 6))\n",
    "plt.imshow(cm, interpolation='nearest', cmap=plt.cm.Blues)\n",
    "plt.title('Confusion Matrix')\n",
    "plt.colorbar()\n",
    "tick_marks = range(2)\n",
    "plt.xticks(tick_marks, ['Loss', 'Win'], rotation=45)\n",
    "plt.yticks(tick_marks, ['Loss', 'Win'])\n",
    "\n",
    "thresh = cm.max() / 2\n",
    "for i, j in itertools.product(range(cm.shape[0]), range(cm.shape[1])):\n",
    "    plt.text(j, i, cm[i, j], horizontalalignment=\"center\", color=\"white\" if cm[i, j] > thresh else \"black\")\n",
    "\n",
    "plt.tight_layout()\n",
    "plt.ylabel('True label')\n",
    "plt.xlabel('Predicted label')\n",
    "plt.show()\n",
    "\n",
    "# Print classification report\n",
    "print(\"Classification Report:\\n\", classification_report(y_test, y_pred_test_labels, target_names=['Loss', 'Win']))\n",
    "\n",
    "# Plot ROC curve\n",
    "fpr, tpr, thresholds = roc_curve(y_test, y_pred_test)\n",
    "roc_auc = auc(fpr, tpr)\n",
    "\n",
    "plt.figure()\n",
    "plt.plot(fpr, tpr, color='darkorange', lw=2, label=f'ROC curve (area = {roc_auc:.2f})')\n",
    "plt.plot([0, 1], [0, 1], color='navy', lw=2, linestyle='--')\n",
    "plt.xlim([0.0, 1.0])\n",
    "plt.ylim([0.0, 1.05])\n",
    "plt.xlabel('False Positive Rate')\n",
    "plt.ylabel('True Positive Rate')\n",
    "plt.title('Receiver Operating Characteristic (ROC)')\n",
    "plt.legend(loc=\"lower right\")\n",
    "plt.show()\n",
    "-->\n"
   ]
  },
  {
   "cell_type": "markdown",
   "metadata": {},
   "source": [
    "### Step 6: Model Saving and Loading  \n",
    "\n",
    "#### Task 6: Save and load the trained model.  \n",
    "\n",
    "This task demonstrates the techniques to persist a trained model using `torch.save` and reload it using `torch.load`. Evaluating the loaded model ensures that it retains its performance, making it practical for deployment in real-world applications.  \n",
    "\n",
    "1. Saving the Model:\n",
    "- Save the model's learned weights and biases using torch.save().( e.g. , torch.save(model.state_dict(), 'your_model_name.pth'))\n",
    "- Saving only the state dictionary (model parameters) is preferred because it’s more flexible and efficient than saving the entire model object.\n",
    "\n",
    "2. Loading the Model:\n",
    "- Create a new model instance (e.g., `model = LogisticRegressionModel()`) and load the saved parameters. ( e.g. , `model.load_state_dict(torch.load('your_model_name.pth'))`)`.\n",
    "\n",
    "3. Evaluating the Loaded Model:\n",
    "   - After loading, set the model to evaluation mode by calling `model.eval()\n",
    "   - After loading the model, evaluate it again on the test dataset to make sure it performs similarly to when it was first trained..Now evaluate it on the test data.\n",
    "   - Use `torch.no_grad()` to ensure that no gradients are computed.\n",
    "\n",
    "#### Exercise 6:  \n",
    "\n",
    "Write code to save the trained model and reload it. Ensure the loaded model performs consistently by evaluating it on the test dataset.  \n"
   ]
  },
  {
   "cell_type": "code",
   "execution_count": 20,
   "metadata": {},
   "outputs": [
    {
     "name": "stdout",
     "output_type": "stream",
     "text": [
      "Model saved to logistic_regression_model.pth\n",
      "Model loaded and set to evaluation mode\n",
      "Test Accuracy of Loaded Model: 54.00%\n"
     ]
    }
   ],
   "source": [
    "## Write your code here\n",
    "# Save the model\n",
    "model_path = \"logistic_regression_model.pth\"  # Specify file name for saving the model\n",
    "torch.save(model.state_dict(), model_path)  # Save the model's state dictionary\n",
    "print(f\"Model saved to {model_path}\")\n",
    "\n",
    "# Load the model\n",
    "loaded_model = LogisticRegressionModel(input_dim)  # Create a new model instance\n",
    "loaded_model.load_state_dict(torch.load(model_path))  # Load the saved state dictionary\n",
    "loaded_model.eval()  # Set the loaded model to evaluation mode\n",
    "print(\"Model loaded and set to evaluation mode\")\n",
    "\n",
    "# Evaluate the loaded model\n",
    "with torch.no_grad():  # Disable gradient calculations\n",
    "    # Get predictions for testing data\n",
    "    loaded_model_test_probs = loaded_model(X_test_tensor).squeeze()  # Probabilities\n",
    "    loaded_model_test_predictions = (loaded_model_test_probs >= 0.5).float()  # Apply threshold at 0.5 for classification\n",
    "\n",
    "# Calculate accuracy for the loaded model\n",
    "loaded_model_test_accuracy = (loaded_model_test_predictions == y_test_tensor).float().mean().item() * 100\n",
    "\n",
    "print(f\"Test Accuracy of Loaded Model: {loaded_model_test_accuracy:.2f}%\")\n",
    "\n"
   ]
  },
  {
   "cell_type": "markdown",
   "metadata": {},
   "source": [
    "### Step 7: Hyperparameter Tuning  \n",
    "\n",
    "#### Task 7: Perform hyperparameter tuning to find the best learning rate.  \n",
    "\n",
    "By testing different learning rates, you will identify the optimal rate that provides the best test accuracy. This fine-tuning is crucial for enhancing model performance . \n",
    "1. Define Learning Rates:\n",
    "   - Choose these learning rates to test ,[0.01, 0.05, 0.1]\n",
    "\n",
    "2. Reinitialize the Model for Each Learning Rate:\n",
    "  - For each learning rate, you’ll need to reinitialize the model and optimizer e.g.(`torch.optim.SGD(model.parameters(), lr=lr)`).\n",
    "   - Each new learning rate requires reinitializing the model since the optimizer and its parameters are linked to the learning rate.\n",
    "\n",
    "3. Train the Model for Each Learning Rate:\n",
    "  - Train the model for a fixed number of epochs (e.g., 50 or 100 epochs) for each learning rate, and compute the accuracy on the test set.\n",
    "  - Track the test accuracy for each learning rate and identify which one yields the best performance.\n",
    "\n",
    "4. Evaluate and Compare:\n",
    "  - After training with each learning rate, compare the test accuracy for each configuration.\n",
    "   - Report the learning rate that gives the highest test accuracy\n",
    "\n",
    "#### Exercise 7:  \n",
    "\n",
    "Perform hyperparameter tuning to find the best learning rate. Retrain the model for each learning rate and evaluate its performance to identify the optimal rate.  \n"
   ]
  },
  {
   "cell_type": "code",
   "execution_count": 21,
   "metadata": {},
   "outputs": [
    {
     "name": "stdout",
     "output_type": "stream",
     "text": [
      "Testing learning rate: 0.01\n",
      "Epoch [20/100], Loss: 0.7263\n",
      "Epoch [40/100], Loss: 0.7231\n",
      "Epoch [60/100], Loss: 0.7202\n",
      "Epoch [80/100], Loss: 0.7175\n",
      "Epoch [100/100], Loss: 0.7150\n",
      "Test Accuracy for learning rate 0.01: 58.00%\n",
      "Testing learning rate: 0.05\n",
      "Epoch [20/100], Loss: 0.7231\n",
      "Epoch [40/100], Loss: 0.7114\n",
      "Epoch [60/100], Loss: 0.7038\n",
      "Epoch [80/100], Loss: 0.6989\n",
      "Epoch [100/100], Loss: 0.6958\n",
      "Test Accuracy for learning rate 0.05: 52.50%\n",
      "Testing learning rate: 0.1\n",
      "Epoch [20/100], Loss: 0.7041\n",
      "Epoch [40/100], Loss: 0.6955\n",
      "Epoch [60/100], Loss: 0.6922\n",
      "Epoch [80/100], Loss: 0.6910\n",
      "Epoch [100/100], Loss: 0.6906\n",
      "Test Accuracy for learning rate 0.1: 53.50%\n",
      "Best Learning Rate: 0.01\n",
      "Highest Test Accuracy: 58.00%\n"
     ]
    }
   ],
   "source": [
    "## Write your code here\n",
    "# Define learning rates to test\n",
    "learning_rates = [0.01, 0.05, 0.1]\n",
    "epochs = 100  # Set number of epochs\n",
    "best_learning_rate = None\n",
    "best_test_accuracy = 0\n",
    "\n",
    "for lr in learning_rates:\n",
    "    print(f\"Testing learning rate: {lr}\")\n",
    "    \n",
    "    # Reinitialize the model\n",
    "    model = LogisticRegressionModel(input_dim)  # Create a fresh instance of the model\n",
    "    \n",
    "    # Reinitialize the optimizer with the new learning rate\n",
    "    optimizer = optim.SGD(model.parameters(), lr=lr)\n",
    "    \n",
    "    # Train the model\n",
    "    for epoch in range(epochs):\n",
    "        model.train()\n",
    "        optimizer.zero_grad()\n",
    "        \n",
    "        # Forward pass: Compute predictions\n",
    "        outputs = model(X_train_tensor).squeeze()\n",
    "        \n",
    "        # Compute the loss\n",
    "        loss = criterion(outputs, y_train_tensor)\n",
    "        \n",
    "        # Backward pass: Calculate gradients\n",
    "        loss.backward()\n",
    "        \n",
    "        # Update model parameters\n",
    "        optimizer.step()\n",
    "        \n",
    "        # Print loss every 20 epochs for monitoring\n",
    "        if (epoch + 1) % 20 == 0:\n",
    "            print(f\"Epoch [{epoch + 1}/{epochs}], Loss: {loss.item():.4f}\")\n",
    "\n",
    "    # Evaluate the model after training\n",
    "    model.eval()  # Set model to evaluation mode\n",
    "    with torch.no_grad():\n",
    "        # Get predictions for test data\n",
    "        test_probs = model(X_test_tensor).squeeze()\n",
    "        test_predictions = (test_probs >= 0.5).float()  # Apply threshold at 0.5 for classification\n",
    "    \n",
    "    # Calculate test accuracy\n",
    "    test_accuracy = (test_predictions == y_test_tensor).float().mean().item() * 100\n",
    "    print(f\"Test Accuracy for learning rate {lr}: {test_accuracy:.2f}%\")\n",
    "    \n",
    "    # Track the best learning rate based on test accuracy\n",
    "    if test_accuracy > best_test_accuracy:\n",
    "        best_test_accuracy = test_accuracy\n",
    "        best_learning_rate = lr\n",
    "\n",
    "# Report the best learning rate and its performance\n",
    "print(f\"Best Learning Rate: {best_learning_rate}\")\n",
    "print(f\"Highest Test Accuracy: {best_test_accuracy:.2f}%\")\n"
   ]
  },
  {
   "cell_type": "markdown",
   "metadata": {},
   "source": [
    "### Step 8: Feature Importance  \n",
    "\n",
    "#### Task 8: Evaluate feature importance to understand the impact of each feature on the prediction.  \n",
    "\n",
    "The code to evaluate feature importance to understand the impact of each feature on the prediction.\n",
    "\n",
    " 1.Extracting Model Weights:\n",
    "  - The weights of the logistic regression model represent the importance of each feature in making predictions. These weights are stored in the model's linear layer (`model.linear.weight`).\n",
    " - You can extract the weights using `model.linear.weight.data.numpy()` and flatten the resulting tensor to get a 1D array of feature importances.\n",
    "\n",
    "2.Creating a DataFrame:\n",
    " - Create a pandas DataFrame with two columns: one for the feature names and the other for their corresponding importance values (i.e., the learned weights).\n",
    " - Ensure the features are aligned with their names in your dataset (e.g., `X_train.columns).\n",
    "\n",
    "3. Sorting and Plotting Feature Importance:\n",
    "  - Sort the features based on the absolute value of their importance (weights) to identify the most impactful features.\n",
    "  - Use a bar plot (via `matplotlib`) to visualize the sorted feature importances, with the feature names on the y-axis and importance values on the x-axis.\n",
    "\n",
    "4. Interpreting the Results:\n",
    "  - Larger absolute weights indicate more influential features. Positive weights suggest a positive correlation with the outcome (likely to predict the positive class), while negative weights suggest the opposite.\n",
    "\n",
    "#### Exercise 8:  \n",
    "\n",
    "Evaluate feature importance by extracting the weights of the linear layer and creating a DataFrame to display the importance of each feature. Visualize the feature importance using a bar plot.  \n"
   ]
  },
  {
   "cell_type": "code",
   "execution_count": 22,
   "metadata": {},
   "outputs": [
    {
     "name": "stdout",
     "output_type": "stream",
     "text": [
      "Feature Importance:\n",
      "        Feature  Importance\n",
      "7  damage_dealt   -0.086326\n",
      "0         kills    0.077160\n",
      "5  wards_placed    0.068876\n",
      "3   gold_earned    0.062625\n",
      "4            cs   -0.036286\n",
      "6  wards_killed   -0.017472\n",
      "1        deaths   -0.015671\n",
      "2       assists   -0.000062\n"
     ]
    },
    {
     "data": {
      "image/png": "[encoded data removed]",
      "text/plain": [
       "<Figure size 1000x800 with 1 Axes>"
      ]
     },
     "metadata": {},
     "output_type": "display_data"
    }
   ],
   "source": [
    "## Write your code here\n",
    "import numpy as np\n",
    "import pandas as pd\n",
    "import matplotlib.pyplot as plt\n",
    "\n",
    "# Extract the weights of the linear layer\n",
    "# Get the weights of the linear layer\n",
    "weights = model.linear.weight.data.numpy().flatten()  # Flatten to get a 1D array\n",
    "\n",
    "#Create a DataFrame for feature importance\n",
    "# Ensure that feature names align with the columns in the dataset\n",
    "feature_names = X.columns  # Replace X with your original dataset's feature columns\n",
    "importance_df = pd.DataFrame({\n",
    "    'Feature': feature_names,\n",
    "    'Importance': weights\n",
    "})\n",
    "\n",
    "# Sort features by absolute importance\n",
    "importance_df['Absolute Importance'] = np.abs(importance_df['Importance'])\n",
    "importance_df = importance_df.sort_values(by='Absolute Importance', ascending=False)\n",
    "\n",
    "# Display the feature importance DataFrame\n",
    "print(\"Feature Importance:\")\n",
    "print(importance_df[['Feature', 'Importance']])\n",
    "\n",
    "# Step 3: Plot the feature importance\n",
    "plt.figure(figsize=(10, 8))\n",
    "plt.barh(importance_df['Feature'], importance_df['Importance'], color='blue')\n",
    "plt.xlabel('Importance')\n",
    "plt.ylabel('Feature')\n",
    "plt.title('Feature Importance in Logistic Regression')\n",
    "plt.gca().invert_yaxis()  # Invert y-axis to display the most important feature at the top\n",
    "plt.show()"
   ]
  },
  {
   "cell_type": "markdown",
   "metadata": {},
   "source": [
    "Double-click <b>here</b> for the Hint\n",
    "<!-- \n",
    "#Use the following code to extract the weight and create dataframe\n",
    "#Change the name of variables per your code\n",
    "\n",
    "Extract the weights of the linear layer:\n",
    "weights = model.linear.weight.data.numpy().flatten()\n",
    "features = X.columns\n",
    "Create a DataFrame for feature importance:\n",
    "feature_importance = pd.DataFrame({'Feature': features, 'Importance': weights})\n",
    "feature_importance = feature_importance.sort_values(by='Importance', ascending=False)\n",
    "print(feature_importance)\n",
    "Plot feature importance plt.figure(figsize=(10, 6))\n",
    "plt.bar(feature_importance['Feature'], feature_importance['Importance'])\n",
    "plt.xlabel('Features')\n",
    "plt.ylabel('Importance')\n",
    "plt.title('Feature Importance')\n",
    "plt.xticks(rotation=45)\n",
    "plt.show()\n",
    "-->\n"
   ]
  },
  {
   "cell_type": "markdown",
   "metadata": {},
   "source": [
    "#### Conclusion:  \n",
    "\n",
    "Congratulations on completing the project! In this final project, you built a logistic regression model to predict the outcomes of League of Legends matches based on various in-game statistics. This comprehensive project involved several key steps, including data loading and preprocessing, model implementation, training, optimization, evaluation, visualization, model saving and loading, hyperparameter tuning, and feature importance analysis. This project provided hands-on experience with the complete workflow of developing a machine learning model for binary classification tasks using PyTorch.\n",
    "\n",
    "© Copyright IBM Corporation. All rights reserved.\n"
   ]
  },
  {
   "cell_type": "code",
   "execution_count": null,
   "metadata": {},
   "outputs": [],
   "source": []
  }
 ],
 "metadata": {
  "kernelspec": {
   "display_name": "Python 3 (ipykernel)",
   "language": "python",
   "name": "python3"
  },
  "language_info": {
   "codemirror_mode": {
    "name": "ipython",
    "version": 3
   },
   "file_extension": ".py",
   "mimetype": "text/x-python",
   "name": "python",
   "nbconvert_exporter": "python",
   "pygments_lexer": "ipython3",
   "version": "3.12.8"
  },
  "prev_pub_hash": "3954a6768947e1337f1fbb623d47144c102fda57b5eb30076fea611e015e66ea"
 },
 "nbformat": 4,
 "nbformat_minor": 4
}
